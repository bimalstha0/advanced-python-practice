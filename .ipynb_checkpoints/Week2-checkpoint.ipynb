{
 "cells": [
  {
   "cell_type": "markdown",
   "id": "b15d04eb-941b-4e45-a3cd-66f1c37438ae",
   "metadata": {},
   "source": [
    "Do not use any of Python functions:\n",
    "\n",
    "A-Write a Python program to check if a number is a perfect square\n",
    "\n",
    "B- Write a Python program to find a missing number from a list. \n",
    "Input : [1,2,3,4,6,7,8]\n",
    "Output : 5\n",
    "\n",
    " \n",
    "\n",
    "C- Write a Python program to find the single number in a list that doesn't occur twice.\n",
    "Input : [5, 3, 4, 3, 4]\n",
    "Output : 5"
   ]
  },
  {
   "cell_type": "code",
   "execution_count": 9,
   "id": "fef95794-09f4-4a46-91ee-a2662e07c10c",
   "metadata": {},
   "outputs": [],
   "source": [
    "def squarechk(a):\n",
    "    root = int(a ** (1/2))\n",
    "    return root*root == a"
   ]
  },
  {
   "cell_type": "code",
   "execution_count": 10,
   "id": "d6c6bd1e-c7c4-4acf-9dce-7cd0a23bf21a",
   "metadata": {},
   "outputs": [
    {
     "data": {
      "text/plain": [
       "False"
      ]
     },
     "execution_count": 10,
     "metadata": {},
     "output_type": "execute_result"
    }
   ],
   "source": [
    "squarechk(14401) "
   ]
  },
  {
   "cell_type": "code",
   "execution_count": 3,
   "id": "8ba3b1ad-c372-4913-ad13-27302390752d",
   "metadata": {},
   "outputs": [],
   "source": [
    "def sqchk(a):\n",
    "    for i in range(1,a):\n",
    "        print(a)\n",
    "        if i**2 == a:\n",
    "            return True\n",
    "    return False\n",
    "\n",
    "#for something that works better for more significant number than 10^52 we can use the same implications as binary search\n",
    "\n",
    "def checksquare(a):\n",
    "    min = 1\n",
    "    max = a\n",
    "    while min <= max:\n",
    "        mid = (min+max)//2\n",
    "        if mid**2 == a:\n",
    "            return True\n",
    "        elif mid**2 <a:\n",
    "            min = mid\n",
    "        else:\n",
    "            max = mid\n",
    "    return False"
   ]
  },
  {
   "cell_type": "code",
   "execution_count": 6,
   "id": "78289b22-84c6-4603-a8bd-2f3d22161857",
   "metadata": {},
   "outputs": [
    {
     "data": {
      "text/plain": [
       "True"
      ]
     },
     "execution_count": 6,
     "metadata": {},
     "output_type": "execute_result"
    }
   ],
   "source": [
    "checksquare(10**100)"
   ]
  },
  {
   "cell_type": "code",
   "execution_count": 20,
   "id": "91e2be73-3e18-43b0-a79d-61c056dec1f3",
   "metadata": {},
   "outputs": [],
   "source": [
    "def findmissing(list):\n",
    "    missing = [] #if you want to return multiple missing number\n",
    "    for i in range(min(list),max(list)+1):\n",
    "        if i not in list:\n",
    "            missing.append(i)\n",
    "    return missing\n"
   ]
  },
  {
   "cell_type": "code",
   "execution_count": 21,
   "id": "fb0564d6-1cd3-4930-b71e-7ec31fa3aab8",
   "metadata": {},
   "outputs": [],
   "source": [
    "ls = [1,2,3,4,5,6,8,9,12,12,4,3,1,2,4]"
   ]
  },
  {
   "cell_type": "code",
   "execution_count": 22,
   "id": "632562fa-8940-4210-af0a-ad987a4f2fd0",
   "metadata": {},
   "outputs": [
    {
     "data": {
      "text/plain": [
       "[7, 10, 11]"
      ]
     },
     "execution_count": 22,
     "metadata": {},
     "output_type": "execute_result"
    }
   ],
   "source": [
    "findmissing(ls)"
   ]
  },
  {
   "cell_type": "code",
   "execution_count": 19,
   "id": "33e8f39a-10d6-4521-88af-ffd216a52783",
   "metadata": {},
   "outputs": [],
   "source": [
    "def findsingle(list):\n",
    "    for num in set(list): ## converting list to set so that the loop doesn't go through the copies of the elements\n",
    "        if list.count(num) !=2:\n",
    "            return num"
   ]
  },
  {
   "cell_type": "code",
   "execution_count": 18,
   "id": "3a0cec9e-9401-4c06-9a90-19f971f3a247",
   "metadata": {},
   "outputs": [
    {
     "data": {
      "text/plain": [
       "5"
      ]
     },
     "execution_count": 18,
     "metadata": {},
     "output_type": "execute_result"
    }
   ],
   "source": [
    "findsingle([5, 3, 4, 3, 4])"
   ]
  }
 ],
 "metadata": {
  "kernelspec": {
   "display_name": "Python 3 (ipykernel)",
   "language": "python",
   "name": "python3"
  },
  "language_info": {
   "codemirror_mode": {
    "name": "ipython",
    "version": 3
   },
   "file_extension": ".py",
   "mimetype": "text/x-python",
   "name": "python",
   "nbconvert_exporter": "python",
   "pygments_lexer": "ipython3",
   "version": "3.11.5"
  }
 },
 "nbformat": 4,
 "nbformat_minor": 5
}

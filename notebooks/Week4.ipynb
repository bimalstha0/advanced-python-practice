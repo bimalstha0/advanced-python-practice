{
 "cells": [
  {
   "cell_type": "markdown",
   "id": "06a3a4a4-76a2-4ba4-b9e3-b373cd30a5ae",
   "metadata": {},
   "source": [
    "Write a Python program to find the single element in a list where every element appears multiple times except for one.\n",
    "Input : [5, 3, 4, 3, 5, 5, 3],\n",
    "Output : 4\n",
    "\n",
    " "
   ]
  },
  {
   "cell_type": "code",
   "execution_count": 1,
   "id": "c08037db-201b-4c72-8ef1-7065a8da4416",
   "metadata": {},
   "outputs": [],
   "source": [
    "def find_single(nums) -> int:\n",
    "    checked = {}\n",
    "    for num in nums:\n",
    "        if num not in checked:\n",
    "            checked[num] = 1\n",
    "        else:\n",
    "            checked[num] +=1\n",
    "    for k,v in checked.items():\n",
    "        if v == 1: return k"
   ]
  },
  {
   "cell_type": "code",
   "execution_count": 2,
   "id": "9b3c0684-78ce-498a-aed7-2060504c05db",
   "metadata": {},
   "outputs": [
    {
     "name": "stdout",
     "output_type": "stream",
     "text": [
      "5\n"
     ]
    }
   ],
   "source": [
    "print(find_single([1,1,2,2,3,2,4,5,4,3,2]))"
   ]
  },
  {
   "cell_type": "code",
   "execution_count": null,
   "id": "415c55ae-6cc0-420a-a044-a94e92bada02",
   "metadata": {},
   "outputs": [],
   "source": []
  }
 ],
 "metadata": {
  "kernelspec": {
   "display_name": "Python 3 (ipykernel)",
   "language": "python",
   "name": "python3"
  },
  "language_info": {
   "codemirror_mode": {
    "name": "ipython",
    "version": 3
   },
   "file_extension": ".py",
   "mimetype": "text/x-python",
   "name": "python",
   "nbconvert_exporter": "python",
   "pygments_lexer": "ipython3",
   "version": "3.11.5"
  }
 },
 "nbformat": 4,
 "nbformat_minor": 5
}

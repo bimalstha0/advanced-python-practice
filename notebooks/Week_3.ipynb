{
 "cells": [
  {
   "cell_type": "markdown",
   "id": "f017e334-15e9-4c10-8abf-d19212280500",
   "metadata": {},
   "source": [
    "1-Write a Python program to find 4 numbers from an array such that the sum of 4 numbers equal to a given number.\n",
    "Input : [1, 0, -1, 0, -2, 2,10,11], 0)\n",
    "Output : [[-2, -1, 1, 2], [-2, 0, 0, 2], [-1, 0, 0, 1]]\n"
   ]
  },
  {
   "cell_type": "code",
   "execution_count": null,
   "id": "be579c14-619f-4624-8ec0-21ba5a011717",
   "metadata": {},
   "outputs": [],
   "source": [
    "def sum_four(arr,num):\n",
    "    "
   ]
  },
  {
   "cell_type": "markdown",
   "id": "fa65949c-d5da-4269-aa25-04805e548799",
   "metadata": {},
   "source": [
    "2-Write a Python program to find the single element appears once in a list where every element appears multiple times except for one. \n",
    "Input : [1, 1, 1, 2, 2, 2, 3]\n",
    "Output : 3"
   ]
  },
  {
   "cell_type": "code",
   "execution_count": 29,
   "id": "5f895540-9b34-4df5-a151-61f56c19cb1d",
   "metadata": {},
   "outputs": [],
   "source": [
    "def find_single(list) -> int:\n",
    "    checked = []\n",
    "    for i in range(len(list)):\n",
    "        #check whether the number is already checked \n",
    "        if list[i] not in checked:\n",
    "            #if the number is not in slice of the list after the number then it is the only question\n",
    "            if list[i] in list[i+1:]:\n",
    "                checked.append(list[i])\n",
    "            else:\n",
    "                return list[i]"
   ]
  },
  {
   "cell_type": "code",
   "execution_count": 31,
   "id": "94dfc968-d387-455f-8406-9146c0d87f0d",
   "metadata": {},
   "outputs": [],
   "source": [
    "def find_single(nums) -> int:\n",
    "    checked = {}\n",
    "    for num in nums:\n",
    "        if num not in checked:\n",
    "            checked[num] = 1\n",
    "        else:\n",
    "            checked[num] +=1\n",
    "    for k,v in checked.items():\n",
    "        if v == 1: return k"
   ]
  },
  {
   "cell_type": "code",
   "execution_count": 32,
   "id": "19eb54f3-2c37-4263-87d8-95ebe36038f4",
   "metadata": {},
   "outputs": [
    {
     "name": "stdout",
     "output_type": "stream",
     "text": [
      "5\n"
     ]
    }
   ],
   "source": [
    "print(find_single([1,1,2,2,3,2,4,5,4,3,2]))"
   ]
  },
  {
   "cell_type": "markdown",
   "id": "90e86fa5-7233-43cf-afd8-8e9123c2c16d",
   "metadata": {},
   "source": [
    "\n",
    "3-Write a Python program to add the digits of a positive integer repeatedly until the result has a single digit. \n",
    "Input : 48\n",
    "Output : 3\n",
    "For example given number is 59, the result will be 5.\n",
    "Step 1: 5 + 9 = 14\n",
    "Step 1: 1 + 4 = 5\n"
   ]
  },
  {
   "cell_type": "code",
   "execution_count": 2,
   "id": "f9398386-8f0b-45a6-b35f-e2803a620e36",
   "metadata": {},
   "outputs": [],
   "source": [
    "def find_sum(digit):\n",
    "    while digit>9:\n",
    "        sum = 0\n",
    "        for num in str(digit):\n",
    "            sum = int(num)+sum\n",
    "        digit = sum\n",
    "    return digit"
   ]
  },
  {
   "cell_type": "code",
   "execution_count": 24,
   "id": "7cb858bb-207d-4211-a553-2276662225cb",
   "metadata": {
    "scrolled": true
   },
   "outputs": [
    {
     "data": {
      "text/plain": [
       "9"
      ]
     },
     "execution_count": 24,
     "metadata": {},
     "output_type": "execute_result"
    }
   ],
   "source": [
    "find_sum(9999)"
   ]
  },
  {
   "cell_type": "code",
   "execution_count": 25,
   "id": "347c7b68-9f12-4543-82d9-195d5405ee08",
   "metadata": {},
   "outputs": [
    {
     "data": {
      "text/plain": [
       "(6.123233995736766e-17+1j)"
      ]
     },
     "execution_count": 25,
     "metadata": {},
     "output_type": "execute_result"
    }
   ],
   "source": [
    "(-1)**0.5"
   ]
  },
  {
   "cell_type": "markdown",
   "id": "1623f4b9-e164-4636-a092-2c921dfad949",
   "metadata": {},
   "source": [
    "### "
   ]
  }
 ],
 "metadata": {
  "kernelspec": {
   "display_name": "Python 3 (ipykernel)",
   "language": "python",
   "name": "python3"
  },
  "language_info": {
   "codemirror_mode": {
    "name": "ipython",
    "version": 3
   },
   "file_extension": ".py",
   "mimetype": "text/x-python",
   "name": "python",
   "nbconvert_exporter": "python",
   "pygments_lexer": "ipython3",
   "version": "3.11.5"
  }
 },
 "nbformat": 4,
 "nbformat_minor": 5
}

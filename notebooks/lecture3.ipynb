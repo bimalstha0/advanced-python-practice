{
 "cells": [
  {
   "cell_type": "code",
   "execution_count": 8,
   "id": "4db5d435-a852-41e4-b388-f19aa21e0e83",
   "metadata": {},
   "outputs": [],
   "source": [
    "import pymongo\n",
    "from pymongo import MongoClient"
   ]
  },
  {
   "cell_type": "code",
   "execution_count": 9,
   "id": "0b6fc2f1-b847-455b-87bb-f2f491cce421",
   "metadata": {},
   "outputs": [],
   "source": [
    "client = MongoClient()"
   ]
  },
  {
   "cell_type": "code",
   "execution_count": 10,
   "id": "5bc3a1cb-c87b-4ba5-9824-b234b0607fdf",
   "metadata": {},
   "outputs": [],
   "source": [
    "db = client.test"
   ]
  },
  {
   "cell_type": "code",
   "execution_count": 17,
   "id": "da4688a0-3229-49b8-9692-e952b22cf183",
   "metadata": {},
   "outputs": [],
   "source": [
    "employee = db.employee"
   ]
  },
  {
   "cell_type": "code",
   "execution_count": 12,
   "id": "5020fab3-960c-410b-bb80-790318cc650b",
   "metadata": {},
   "outputs": [
    {
     "data": {
      "text/plain": [
       "['admin', 'config', 'local']"
      ]
     },
     "execution_count": 12,
     "metadata": {},
     "output_type": "execute_result"
    }
   ],
   "source": [
    "client.list_database_names()"
   ]
  },
  {
   "cell_type": "code",
   "execution_count": 14,
   "id": "e1accd21-05d4-421c-891d-7f797b21eebc",
   "metadata": {},
   "outputs": [],
   "source": [
    "#if there are multiple databases u can check only \n",
    "dblist = client.list_database_names()\n",
    "if 'test' in dblist:\n",
    "    print('The {} exists.'.format('test'))\n",
    "    "
   ]
  },
  {
   "cell_type": "code",
   "execution_count": 18,
   "id": "b4db48b6-e459-425d-b9d4-161438ddadfe",
   "metadata": {},
   "outputs": [
    {
     "data": {
      "text/plain": [
       "[]"
      ]
     },
     "execution_count": 18,
     "metadata": {},
     "output_type": "execute_result"
    }
   ],
   "source": [
    "db.list_collection_names()"
   ]
  },
  {
   "cell_type": "code",
   "execution_count": 19,
   "id": "c5618489-52cf-4230-94a5-ccfb63941542",
   "metadata": {},
   "outputs": [],
   "source": [
    "coll_list = db.list_collection_names()\n",
    "if 'employee' in coll_list:\n",
    "    print('The employee exists.')"
   ]
  },
  {
   "cell_type": "code",
   "execution_count": 22,
   "id": "88dc328d-aace-4615-8693-c84140694851",
   "metadata": {},
   "outputs": [],
   "source": [
    "employee_details = {\n",
    "    'Name':'Raj Kumar',\n",
    "    'Address': 'Sears Street,NZ',\n",
    "    'Age': '43'\n",
    "}\n",
    "result = employee.insert_one(employee_details)"
   ]
  },
  {
   "cell_type": "code",
   "execution_count": 23,
   "id": "716a7d3e-8bbb-487f-8f22-4dda383c59e9",
   "metadata": {},
   "outputs": [
    {
     "data": {
      "text/plain": [
       "['employee']"
      ]
     },
     "execution_count": 23,
     "metadata": {},
     "output_type": "execute_result"
    }
   ],
   "source": [
    "db.list_collection_names()"
   ]
  },
  {
   "cell_type": "code",
   "execution_count": 26,
   "id": "1f2c7e58-ddf3-407f-837a-d55f1d167b20",
   "metadata": {},
   "outputs": [
    {
     "name": "stdout",
     "output_type": "stream",
     "text": [
      "65af08996060072f6697f783\n"
     ]
    }
   ],
   "source": [
    "print(result.inserted_id)"
   ]
  },
  {
   "cell_type": "code",
   "execution_count": 28,
   "id": "a4c51778-2b6e-48a4-a1bb-6693896d1ef3",
   "metadata": {},
   "outputs": [],
   "source": [
    "list_emp = [{\"_id\":1,\"name\":\"John\",\"address\":\"Highway 37\"},\n",
    "          {\"_id\":2,\"name\":\"Peter\",\"address\":\"Lowstreet 27\"},\n",
    "          {\"_id\":3,\"name\":\"Amy\",\"address\":\"Close st 652\"},\n",
    "          {\"_id\":4,\"name\":\"Hannah\",\"address\":\"Mountain 21\"},\n",
    "          {\"_id\":5,\"name\":\"Michael\",\"address\":\"Valley 345\"},\n",
    "          {\"_id\":6,\"name\": \"Vicky\", \"address\": \"Yellow Garden 124\"},\n",
    "          {\"_id\":7,\"name\": \"Nicky\", \"address\": \"Yellow Garden 23\"},\n",
    "          {\"_id\":8,\"name\": \"Nancy\", \"address\": \"Younge Ave. 123\"},\n",
    "          {\"_id\":9,\"name\": \"Viola\", \"address\": \"Sideway Ave\"}]\n"
   ]
  },
  {
   "cell_type": "code",
   "execution_count": 29,
   "id": "e73a7786-49eb-45c2-941a-1e3364505062",
   "metadata": {},
   "outputs": [],
   "source": [
    "res = employee.insert_many(list_emp)"
   ]
  },
  {
   "cell_type": "code",
   "execution_count": 31,
   "id": "75384359-58c2-4bb2-b204-b346c7818dac",
   "metadata": {},
   "outputs": [
    {
     "name": "stdout",
     "output_type": "stream",
     "text": [
      "[1, 2, 3, 4, 5, 6, 7, 8, 9]\n"
     ]
    }
   ],
   "source": [
    "print(res.inserted_ids)"
   ]
  },
  {
   "cell_type": "code",
   "execution_count": 35,
   "id": "77a16863-f818-48cf-9c9d-71be10e78cc0",
   "metadata": {},
   "outputs": [
    {
     "name": "stdout",
     "output_type": "stream",
     "text": [
      "{'_id': ObjectId('65af08996060072f6697f783'), 'Name': 'Raj Kumar', 'Address': 'Sears Street,NZ', 'Age': '43'}\n"
     ]
    }
   ],
   "source": [
    "x = employee.find_one()\n",
    "print(x)"
   ]
  },
  {
   "cell_type": "code",
   "execution_count": 44,
   "id": "05473358-fb8b-49b6-90cf-0d4cce9434cd",
   "metadata": {},
   "outputs": [
    {
     "name": "stdout",
     "output_type": "stream",
     "text": [
      "{'_id': ObjectId('65af08996060072f6697f783'), 'Name': 'Raj Kumar', 'Address': 'Sears Street,NZ', 'Age': '43'}\n",
      "{'_id': 1, 'name': 'John', 'address': 'Highway 37'}\n",
      "{'_id': 2, 'name': 'Peter', 'address': 'Lowstreet 27'}\n",
      "{'_id': 3, 'name': 'Amy', 'address': 'Close st 652'}\n",
      "{'_id': 4, 'name': 'Hannah', 'address': 'Mountain 21'}\n",
      "{'_id': 5, 'name': 'Michael', 'address': 'Valley 345'}\n",
      "{'_id': 6, 'name': 'Vicky', 'address': 'Yellow Garden 124'}\n",
      "{'_id': 7, 'name': 'Nicky', 'address': 'Yellow Garden 23'}\n",
      "{'_id': 8, 'name': 'Nancy', 'address': 'Younge Ave. 123'}\n",
      "{'_id': 9, 'name': 'Viola', 'address': 'Sideway Ave'}\n"
     ]
    }
   ],
   "source": [
    "for x in employee.find():\n",
    "    print(x)"
   ]
  },
  {
   "cell_type": "code",
   "execution_count": 41,
   "id": "6df00b25-90ce-43dc-b1bc-c12e03da9600",
   "metadata": {},
   "outputs": [
    {
     "name": "stdout",
     "output_type": "stream",
     "text": [
      "{'_id': ObjectId('65af08996060072f6697f783'), 'Name': 'Raj Kumar', 'Address': 'Sears Street,NZ', 'Age': '43'}\n",
      "{'_id': 1, 'name': 'John', 'address': 'Highway 37'}\n",
      "{'_id': 2, 'name': 'Peter', 'address': 'Lowstreet 27'}\n",
      "{'_id': 3, 'name': 'Amy', 'address': 'Close st 652'}\n",
      "{'_id': 4, 'name': 'Hannah', 'address': 'Mountain 21'}\n"
     ]
    }
   ],
   "source": [
    "for x in employee.find().limit(5):\n",
    "    print(x)\n"
   ]
  },
  {
   "cell_type": "code",
   "execution_count": 42,
   "id": "c1c5b477-63bc-4348-9f90-6fedd7962c65",
   "metadata": {},
   "outputs": [
    {
     "data": {
      "text/plain": [
       "pymongo.cursor.Cursor"
      ]
     },
     "execution_count": 42,
     "metadata": {},
     "output_type": "execute_result"
    }
   ],
   "source": [
    "type(employee.find())"
   ]
  },
  {
   "cell_type": "code",
   "execution_count": 47,
   "id": "f51ca8ed-b8d4-40ae-a70d-cf66b7928539",
   "metadata": {},
   "outputs": [
    {
     "name": "stdout",
     "output_type": "stream",
     "text": [
      "{'_id': ObjectId('65af08996060072f6697f783'), 'Age': '43'}\n",
      "{'_id': 1}\n",
      "{'_id': 2}\n",
      "{'_id': 3}\n",
      "{'_id': 4}\n",
      "{'_id': 5}\n",
      "{'_id': 6}\n",
      "{'_id': 7}\n",
      "{'_id': 8}\n",
      "{'_id': 9}\n"
     ]
    }
   ],
   "source": [
    "for x in employee.find({},{'Age':1}):\n",
    "    print(x)"
   ]
  },
  {
   "cell_type": "code",
   "execution_count": 50,
   "id": "f7e9eb75-1b6d-4ec3-9dda-cb538c4dd97f",
   "metadata": {},
   "outputs": [
    {
     "name": "stdout",
     "output_type": "stream",
     "text": [
      "{'_id': 1, 'name': 'John', 'address': 'Highway 37'}\n"
     ]
    }
   ],
   "source": [
    "myquery  = {'address':'Highway 37'}\n",
    "mydoc = employee.find(myquery).limit(5)\n",
    "for x in mydoc:\n",
    "    print(x)"
   ]
  },
  {
   "cell_type": "code",
   "execution_count": 53,
   "id": "a4e398b8-4f94-4d32-96d0-e2f633ca7c52",
   "metadata": {},
   "outputs": [
    {
     "name": "stdout",
     "output_type": "stream",
     "text": [
      "{'_id': 4, 'name': 'Hannah', 'address': 'Mountain 21'}\n"
     ]
    }
   ],
   "source": [
    "query1 = {'address': {'$regex':'^M'}}\n",
    "mydoc1 = employee.find(query1)\n",
    "\n",
    "for x in mydoc1:\n",
    "    print(x)"
   ]
  },
  {
   "cell_type": "code",
   "execution_count": 60,
   "id": "ec70c018-9cd2-4785-b96f-4f0ff53b9c9e",
   "metadata": {},
   "outputs": [
    {
     "name": "stdout",
     "output_type": "stream",
     "text": [
      "{'_id': 5, 'name': 'Michael', 'address': 'Valley 345'}\n",
      "{'_id': 8, 'name': 'Nancy', 'address': 'Younge Ave. 123'}\n",
      "{'_id': 9, 'name': 'Viola', 'address': 'Sideway Ave'}\n"
     ]
    }
   ],
   "source": [
    "query2 = {'address': {'$regex':'[Vv]'}}\n",
    "mydoc2 = employee.find(query2)\n",
    "\n",
    "for x in mydoc2:\n",
    "    print(x)"
   ]
  },
  {
   "cell_type": "code",
   "execution_count": 62,
   "id": "95a6c399-ed4b-42ea-9d70-ac4a78c9cb4e",
   "metadata": {},
   "outputs": [
    {
     "name": "stdout",
     "output_type": "stream",
     "text": [
      "{'_id': 1, 'name': 'John', 'address': 'Highway 37'}\n",
      "{'_id': 4, 'name': 'Hannah', 'address': 'Mountain 21'}\n",
      "{'_id': 5, 'name': 'Michael', 'address': 'Valley 345'}\n",
      "{'_id': 6, 'name': 'Vicky', 'address': 'Yellow Garden 124'}\n",
      "{'_id': 7, 'name': 'Nicky', 'address': 'Yellow Garden 23'}\n",
      "{'_id': 9, 'name': 'Viola', 'address': 'Sideway Ave'}\n"
     ]
    }
   ],
   "source": [
    "query3 = {'$or' :[{'address': {'$regex':'a'}},{'address': {'$regex':'b'}}]}\n",
    "mydoc3 = employee.find(query3)\n",
    "\n",
    "for x in mydoc3:\n",
    "    print(x)"
   ]
  },
  {
   "cell_type": "code",
   "execution_count": 64,
   "id": "2c151563-6a9c-425c-b6b0-b556c89417b6",
   "metadata": {},
   "outputs": [
    {
     "name": "stdout",
     "output_type": "stream",
     "text": [
      "{'_id': 1, 'name': 'John', 'address': 'Highway 37'}\n",
      "{'_id': 4, 'name': 'Hannah', 'address': 'Mountain 21'}\n",
      "{'_id': 5, 'name': 'Michael', 'address': 'Valley 345'}\n",
      "{'_id': 6, 'name': 'Vicky', 'address': 'Yellow Garden 124'}\n",
      "{'_id': 7, 'name': 'Nicky', 'address': 'Yellow Garden 23'}\n",
      "{'_id': 9, 'name': 'Viola', 'address': 'Sideway Ave'}\n"
     ]
    }
   ],
   "source": [
    "query_3 = {'address': {'$regex':'a|b'}}\n",
    "mydoc_3 = employee.find(query_3)\n",
    "\n",
    "for x in mydoc_3:\n",
    "    print(x)"
   ]
  },
  {
   "cell_type": "code",
   "execution_count": 70,
   "id": "f9ac62a5-dcea-4616-bccf-91e0f525d3f7",
   "metadata": {},
   "outputs": [
    {
     "name": "stdout",
     "output_type": "stream",
     "text": [
      "{'_id': 6, 'name': 'Vicky', 'address': 'Yellow Garden 124'}\n",
      "{'_id': 8, 'name': 'Nancy', 'address': 'Younge Ave. 123'}\n"
     ]
    }
   ],
   "source": [
    "query3 = {'$and' :[{'address': {'$regex':'^Y'}},{'address': {'$regex':'1'}}]}\n",
    "mydoc3 = employee.find(query3)\n",
    "\n",
    "for x in mydoc3:\n",
    "    print(x)"
   ]
  },
  {
   "cell_type": "code",
   "execution_count": 71,
   "id": "82ff0c67-b184-4ce5-86e8-76bf5f2df88c",
   "metadata": {},
   "outputs": [],
   "source": [
    "query_3 = {'address': {'$regex':'^Y'}}\n",
    "mydoc_3 = employee.find(query_3)\n",
    "\n",
    "for x in mydoc_3:\n",
    "    print(x)"
   ]
  },
  {
   "cell_type": "code",
   "execution_count": 74,
   "id": "cc71682d-adc2-462b-a1a2-113ba1858d4e",
   "metadata": {},
   "outputs": [
    {
     "name": "stdout",
     "output_type": "stream",
     "text": [
      "{'_id': 6, 'name': 'Vicky', 'address': 'Yellow Garden 124'}\n"
     ]
    }
   ],
   "source": [
    "query3 = {'$and' :[{'address': {'$regex':'^Y'}},{'address': {'$regex':'1'}},{'name':{'$ne':'Nancy'}}]}\n",
    "mydoc3 = employee.find(query3)\n",
    "\n",
    "for x in mydoc3:\n",
    "    print(x)"
   ]
  },
  {
   "cell_type": "code",
   "execution_count": 79,
   "id": "38ddb6c8-5967-47f7-8193-a820aced7156",
   "metadata": {},
   "outputs": [
    {
     "name": "stdout",
     "output_type": "stream",
     "text": [
      "{'_id': 5, 'name': 'Michael', 'address': 'Valley 345'}\n",
      "{'_id': 6, 'name': 'Vicky', 'address': 'Yellow Garden 124'}\n",
      "{'_id': 7, 'name': 'Nicky', 'address': 'Yellow Garden 23'}\n",
      "{'_id': 8, 'name': 'Nancy', 'address': 'Younge Ave. 123'}\n",
      "{'_id': 9, 'name': 'Viola', 'address': 'Sideway Ave'}\n"
     ]
    }
   ],
   "source": [
    "query3 = {'address': {'$gt':'S'}}\n",
    "mydoc3 = employee.find(query3)\n",
    "\n",
    "for x in mydoc3:\n",
    "    print(x)"
   ]
  },
  {
   "cell_type": "code",
   "execution_count": 81,
   "id": "73dbf020-cd53-4e3c-a968-f2141caeb7ba",
   "metadata": {},
   "outputs": [
    {
     "name": "stdout",
     "output_type": "stream",
     "text": [
      "{'_id': ObjectId('65af08996060072f6697f783'), 'Name': 'Raj Kumar', 'Address': 'Sears Street,NZ', 'Age': '43'}\n",
      "{'_id': 3, 'name': 'Amy', 'address': 'Close st 652'}\n",
      "{'_id': 4, 'name': 'Hannah', 'address': 'Mountain 21'}\n",
      "{'_id': 1, 'name': 'John', 'address': 'Highway 37'}\n",
      "{'_id': 5, 'name': 'Michael', 'address': 'Valley 345'}\n",
      "{'_id': 8, 'name': 'Nancy', 'address': 'Younge Ave. 123'}\n",
      "{'_id': 7, 'name': 'Nicky', 'address': 'Yellow Garden 23'}\n",
      "{'_id': 2, 'name': 'Peter', 'address': 'Lowstreet 27'}\n",
      "{'_id': 6, 'name': 'Vicky', 'address': 'Yellow Garden 124'}\n",
      "{'_id': 9, 'name': 'Viola', 'address': 'Sideway Ave'}\n"
     ]
    }
   ],
   "source": [
    "mydoc_4 = employee.find().sort('name')\n",
    "for x in mydoc_4:\n",
    "    print(x)"
   ]
  },
  {
   "cell_type": "code",
   "execution_count": 85,
   "id": "89df2adb-c855-4a39-be41-0ea1bed5775e",
   "metadata": {},
   "outputs": [
    {
     "name": "stdout",
     "output_type": "stream",
     "text": [
      "{'_id': 5, 'name': 'Michael', 'address': 'Valley 345'}\n"
     ]
    }
   ],
   "source": [
    "where = {'address':'Valley 345'}\n",
    "set = {'address':'Pokhara 234'}\n",
    "for x in employee.find(where):\n",
    "    print(x)"
   ]
  },
  {
   "cell_type": "code",
   "execution_count": 86,
   "id": "302fb476-7762-4c7f-b8e0-779f3041f8ac",
   "metadata": {},
   "outputs": [
    {
     "name": "stdout",
     "output_type": "stream",
     "text": [
      "{'_id': ObjectId('65af08996060072f6697f783'), 'Name': 'Raj Kumar', 'Address': 'Sears Street,NZ', 'Age': '43'}\n",
      "{'_id': 1, 'name': 'John', 'address': 'Pokhara 234'}\n",
      "{'_id': 2, 'name': 'Peter', 'address': 'Lowstreet 27'}\n",
      "{'_id': 3, 'name': 'Amy', 'address': 'Close st 652'}\n",
      "{'_id': 4, 'name': 'Hannah', 'address': 'Mountain 21'}\n",
      "{'_id': 5, 'name': 'Michael', 'address': 'Valley 345'}\n",
      "{'_id': 6, 'name': 'Vicky', 'address': 'Yellow Garden 124'}\n",
      "{'_id': 7, 'name': 'Nicky', 'address': 'Yellow Garden 23'}\n",
      "{'_id': 8, 'name': 'Nancy', 'address': 'Younge Ave. 123'}\n",
      "{'_id': 9, 'name': 'Viola', 'address': 'Sideway Ave'}\n"
     ]
    }
   ],
   "source": [
    "employee.update_one(myquery,{'$set': set})\n",
    "\n",
    "for x in employee.find():\n",
    "    print(x)"
   ]
  },
  {
   "cell_type": "code",
   "execution_count": 87,
   "id": "10fa20fc-1fb3-4816-983f-006586c8ce21",
   "metadata": {},
   "outputs": [
    {
     "name": "stdout",
     "output_type": "stream",
     "text": [
      "3 document updated\n"
     ]
    }
   ],
   "source": [
    "where_mul = {'address':{'$regex':'^Y'}}\n",
    "set = {'$set':{'address':'Kathmandu 564'}}\n",
    "\n",
    "x = employee.update_many(where_mul,set)\n",
    "print(x.modified_count,'document updated')"
   ]
  },
  {
   "cell_type": "code",
   "execution_count": 88,
   "id": "52dbbd30-fae9-4e39-b805-f9b3c0cd11f6",
   "metadata": {},
   "outputs": [
    {
     "name": "stdout",
     "output_type": "stream",
     "text": [
      "{'_id': ObjectId('65af08996060072f6697f783'), 'Name': 'Raj Kumar', 'Address': 'Sears Street,NZ', 'Age': '43'}\n",
      "{'_id': 1, 'name': 'John', 'address': 'Pokhara 234'}\n",
      "{'_id': 2, 'name': 'Peter', 'address': 'Lowstreet 27'}\n",
      "{'_id': 3, 'name': 'Amy', 'address': 'Close st 652'}\n",
      "{'_id': 4, 'name': 'Hannah', 'address': 'Mountain 21'}\n",
      "{'_id': 5, 'name': 'Michael', 'address': 'Valley 345'}\n",
      "{'_id': 6, 'name': 'Vicky', 'address': 'Kathmandu 564'}\n",
      "{'_id': 7, 'name': 'Nicky', 'address': 'Kathmandu 564'}\n",
      "{'_id': 8, 'name': 'Nancy', 'address': 'Kathmandu 564'}\n",
      "{'_id': 9, 'name': 'Viola', 'address': 'Sideway Ave'}\n"
     ]
    }
   ],
   "source": [
    "\n",
    "for x in employee.find():\n",
    "    print(x)"
   ]
  },
  {
   "cell_type": "code",
   "execution_count": 89,
   "id": "bdab4e87-78a4-4f09-a991-e241b1641508",
   "metadata": {},
   "outputs": [
    {
     "data": {
      "text/plain": [
       "DeleteResult({'n': 1, 'ok': 1.0}, acknowledged=True)"
      ]
     },
     "execution_count": 89,
     "metadata": {},
     "output_type": "execute_result"
    }
   ],
   "source": [
    "db.employee.delete_one({'Age':'43'})"
   ]
  },
  {
   "cell_type": "code",
   "execution_count": 90,
   "id": "0c24e7cf-854a-4612-b435-914e32d3f5f7",
   "metadata": {},
   "outputs": [
    {
     "name": "stdout",
     "output_type": "stream",
     "text": [
      "1 documents deleted!\n"
     ]
    }
   ],
   "source": [
    "del_where = {'address':'Mountain 21'}\n",
    "x = employee.delete_one(del_where)\n",
    "print(x.deleted_count,'documents deleted!')"
   ]
  },
  {
   "cell_type": "code",
   "execution_count": 91,
   "id": "33a3d691-64d6-4dc7-97d8-76beddbbae5d",
   "metadata": {},
   "outputs": [
    {
     "name": "stdout",
     "output_type": "stream",
     "text": [
      "3 documents deleted!\n"
     ]
    }
   ],
   "source": [
    "del_where = {'address':'Kathmandu 564'}\n",
    "x = employee.delete_many(del_where)\n",
    "print(x.deleted_count,'documents deleted!')"
   ]
  },
  {
   "cell_type": "code",
   "execution_count": 92,
   "id": "b41639bc-61d0-47f6-8bf7-f010de46e698",
   "metadata": {},
   "outputs": [
    {
     "name": "stdout",
     "output_type": "stream",
     "text": [
      "5 documents deleted!\n"
     ]
    }
   ],
   "source": [
    "# To delete everything from the collection\n",
    "x = employee.delete_many({})\n",
    "print(x.deleted_count,'documents deleted!')"
   ]
  },
  {
   "cell_type": "code",
   "execution_count": 94,
   "id": "4689b539-dfe3-419e-a566-b48972a7dc7d",
   "metadata": {},
   "outputs": [],
   "source": [
    "#To drop the collection\n",
    "employee.drop()"
   ]
  },
  {
   "cell_type": "code",
   "execution_count": null,
   "id": "23cce7a4-2062-4d69-8c51-10cf09dbed36",
   "metadata": {},
   "outputs": [],
   "source": []
  }
 ],
 "metadata": {
  "kernelspec": {
   "display_name": "Python 3 (ipykernel)",
   "language": "python",
   "name": "python3"
  },
  "language_info": {
   "codemirror_mode": {
    "name": "ipython",
    "version": 3
   },
   "file_extension": ".py",
   "mimetype": "text/x-python",
   "name": "python",
   "nbconvert_exporter": "python",
   "pygments_lexer": "ipython3",
   "version": "3.11.5"
  }
 },
 "nbformat": 4,
 "nbformat_minor": 5
}

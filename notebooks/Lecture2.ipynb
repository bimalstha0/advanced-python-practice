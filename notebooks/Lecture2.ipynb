{
 "cells": [
  {
   "cell_type": "code",
   "execution_count": 1,
   "id": "7e7fd029-34c6-4f8b-999d-a401f2a615b0",
   "metadata": {},
   "outputs": [],
   "source": [
    "import pandas as pd\n",
    "import numpy as np\n",
    "import seaborn as sns\n",
    "from sklearn.datasets import make_regression, make_classification, make_blobs\n",
    "import plotly.express as px\n"
   ]
  },
  {
   "cell_type": "code",
   "execution_count": 2,
   "id": "bfb89a26-f22a-4106-9127-8d10f6731204",
   "metadata": {},
   "outputs": [],
   "source": [
    "reg_features,reg_target,reg_coefficients = make_regression(n_samples = 100,\n",
    "                                               n_features = 3,\n",
    "                                               n_informative = 3,\n",
    "                                               n_targets =1,\n",
    "                                               noise = 0.0,\n",
    "                                               coef = True,\n",
    "                                               random_state = 1)"
   ]
  },
  {
   "cell_type": "code",
   "execution_count": 3,
   "id": "270eeec6-ab44-45c7-a043-6d526abc67b4",
   "metadata": {},
   "outputs": [
    {
     "data": {
      "text/plain": [
       "array([44.19042807, 98.97517077, 58.15774073])"
      ]
     },
     "execution_count": 3,
     "metadata": {},
     "output_type": "execute_result"
    }
   ],
   "source": [
    "reg_coefficients"
   ]
  },
  {
   "cell_type": "code",
   "execution_count": 4,
   "id": "8b11ceef-25af-4a08-b1e7-4cab7bb23e8b",
   "metadata": {},
   "outputs": [],
   "source": [
    "cls_features,cls_target = make_classification(n_samples = 100,\n",
    "                                      n_features = 3,\n",
    "                                      n_informative = 3,\n",
    "                                      n_redundant = 0,  ##(correlated columns)\n",
    "                                      n_classes = 2,\n",
    "                                      weights = [.25,.75],\n",
    "                                      random_state = 1,)\n",
    "                                      "
   ]
  },
  {
   "cell_type": "code",
   "execution_count": 5,
   "id": "d1f7a3a2-3786-40a0-b9ea-c2a07052b418",
   "metadata": {},
   "outputs": [
    {
     "data": {
      "text/plain": [
       "numpy.ndarray"
      ]
     },
     "execution_count": 5,
     "metadata": {},
     "output_type": "execute_result"
    }
   ],
   "source": [
    "type(cls_features)"
   ]
  },
  {
   "cell_type": "code",
   "execution_count": 6,
   "id": "562c0adf-6a9c-4fb0-a178-5d961e5542ef",
   "metadata": {},
   "outputs": [
    {
     "data": {
      "text/plain": [
       "(100,)"
      ]
     },
     "execution_count": 6,
     "metadata": {},
     "output_type": "execute_result"
    }
   ],
   "source": [
    "cls_target.shape"
   ]
  },
  {
   "cell_type": "code",
   "execution_count": 7,
   "id": "3eac27ee-8b20-4fa3-964f-b7687a9902c9",
   "metadata": {},
   "outputs": [],
   "source": [
    "data = np.c_[cls_features,cls_target]"
   ]
  },
  {
   "cell_type": "code",
   "execution_count": 8,
   "id": "0fd2fd9e-0677-45c2-8a7c-7f9f560972f1",
   "metadata": {},
   "outputs": [],
   "source": [
    "cls_df = pd.DataFrame(data)"
   ]
  },
  {
   "cell_type": "code",
   "execution_count": 9,
   "id": "00a54ebf-7c7b-416d-8583-6b461a4195e9",
   "metadata": {},
   "outputs": [
    {
     "data": {
      "text/html": [
       "<div>\n",
       "<style scoped>\n",
       "    .dataframe tbody tr th:only-of-type {\n",
       "        vertical-align: middle;\n",
       "    }\n",
       "\n",
       "    .dataframe tbody tr th {\n",
       "        vertical-align: top;\n",
       "    }\n",
       "\n",
       "    .dataframe thead th {\n",
       "        text-align: right;\n",
       "    }\n",
       "</style>\n",
       "<table border=\"1\" class=\"dataframe\">\n",
       "  <thead>\n",
       "    <tr style=\"text-align: right;\">\n",
       "      <th></th>\n",
       "      <th>0</th>\n",
       "      <th>1</th>\n",
       "      <th>2</th>\n",
       "      <th>3</th>\n",
       "    </tr>\n",
       "  </thead>\n",
       "  <tbody>\n",
       "    <tr>\n",
       "      <th>0</th>\n",
       "      <td>1.063548</td>\n",
       "      <td>-1.426322</td>\n",
       "      <td>1.021632</td>\n",
       "      <td>1.0</td>\n",
       "    </tr>\n",
       "    <tr>\n",
       "      <th>1</th>\n",
       "      <td>0.231570</td>\n",
       "      <td>1.495353</td>\n",
       "      <td>0.332516</td>\n",
       "      <td>0.0</td>\n",
       "    </tr>\n",
       "    <tr>\n",
       "      <th>2</th>\n",
       "      <td>0.159730</td>\n",
       "      <td>0.835335</td>\n",
       "      <td>-0.408696</td>\n",
       "      <td>0.0</td>\n",
       "    </tr>\n",
       "    <tr>\n",
       "      <th>3</th>\n",
       "      <td>-0.706121</td>\n",
       "      <td>-1.032810</td>\n",
       "      <td>1.394780</td>\n",
       "      <td>1.0</td>\n",
       "    </tr>\n",
       "    <tr>\n",
       "      <th>4</th>\n",
       "      <td>0.844490</td>\n",
       "      <td>-0.619972</td>\n",
       "      <td>1.087911</td>\n",
       "      <td>1.0</td>\n",
       "    </tr>\n",
       "    <tr>\n",
       "      <th>...</th>\n",
       "      <td>...</td>\n",
       "      <td>...</td>\n",
       "      <td>...</td>\n",
       "      <td>...</td>\n",
       "    </tr>\n",
       "    <tr>\n",
       "      <th>95</th>\n",
       "      <td>1.106411</td>\n",
       "      <td>-1.615516</td>\n",
       "      <td>1.603296</td>\n",
       "      <td>1.0</td>\n",
       "    </tr>\n",
       "    <tr>\n",
       "      <th>96</th>\n",
       "      <td>-2.438623</td>\n",
       "      <td>-1.784630</td>\n",
       "      <td>0.500376</td>\n",
       "      <td>1.0</td>\n",
       "    </tr>\n",
       "    <tr>\n",
       "      <th>97</th>\n",
       "      <td>-1.304690</td>\n",
       "      <td>-1.652926</td>\n",
       "      <td>0.992340</td>\n",
       "      <td>1.0</td>\n",
       "    </tr>\n",
       "    <tr>\n",
       "      <th>98</th>\n",
       "      <td>1.190208</td>\n",
       "      <td>-0.961064</td>\n",
       "      <td>0.292125</td>\n",
       "      <td>1.0</td>\n",
       "    </tr>\n",
       "    <tr>\n",
       "      <th>99</th>\n",
       "      <td>-1.088047</td>\n",
       "      <td>0.828038</td>\n",
       "      <td>-0.566882</td>\n",
       "      <td>0.0</td>\n",
       "    </tr>\n",
       "  </tbody>\n",
       "</table>\n",
       "<p>100 rows × 4 columns</p>\n",
       "</div>"
      ],
      "text/plain": [
       "           0         1         2    3\n",
       "0   1.063548 -1.426322  1.021632  1.0\n",
       "1   0.231570  1.495353  0.332516  0.0\n",
       "2   0.159730  0.835335 -0.408696  0.0\n",
       "3  -0.706121 -1.032810  1.394780  1.0\n",
       "4   0.844490 -0.619972  1.087911  1.0\n",
       "..       ...       ...       ...  ...\n",
       "95  1.106411 -1.615516  1.603296  1.0\n",
       "96 -2.438623 -1.784630  0.500376  1.0\n",
       "97 -1.304690 -1.652926  0.992340  1.0\n",
       "98  1.190208 -0.961064  0.292125  1.0\n",
       "99 -1.088047  0.828038 -0.566882  0.0\n",
       "\n",
       "[100 rows x 4 columns]"
      ]
     },
     "execution_count": 9,
     "metadata": {},
     "output_type": "execute_result"
    }
   ],
   "source": [
    "cls_df"
   ]
  },
  {
   "cell_type": "code",
   "execution_count": 10,
   "id": "947cdc56-be12-43a0-8f44-dd59a7021dfc",
   "metadata": {},
   "outputs": [],
   "source": [
    "clu_features,clu_clusters = make_blobs(n_samples = 100, centers = 3, n_features = 2, random_state = 0)"
   ]
  },
  {
   "cell_type": "code",
   "execution_count": 11,
   "id": "235816fe-762b-4258-9178-f547e101b468",
   "metadata": {},
   "outputs": [],
   "source": [
    "clu_df = pd.DataFrame(data = np.c_[clu_features,clu_clusters], columns = ['feature1','feature2','cluster_id'])"
   ]
  },
  {
   "cell_type": "code",
   "execution_count": 12,
   "id": "a2cf5514-e192-451b-8d30-576ed58cbf41",
   "metadata": {},
   "outputs": [
    {
     "data": {
      "text/html": [
       "<div>\n",
       "<style scoped>\n",
       "    .dataframe tbody tr th:only-of-type {\n",
       "        vertical-align: middle;\n",
       "    }\n",
       "\n",
       "    .dataframe tbody tr th {\n",
       "        vertical-align: top;\n",
       "    }\n",
       "\n",
       "    .dataframe thead th {\n",
       "        text-align: right;\n",
       "    }\n",
       "</style>\n",
       "<table border=\"1\" class=\"dataframe\">\n",
       "  <thead>\n",
       "    <tr style=\"text-align: right;\">\n",
       "      <th></th>\n",
       "      <th>feature1</th>\n",
       "      <th>feature2</th>\n",
       "      <th>cluster_id</th>\n",
       "    </tr>\n",
       "  </thead>\n",
       "  <tbody>\n",
       "    <tr>\n",
       "      <th>0</th>\n",
       "      <td>2.631858</td>\n",
       "      <td>0.689365</td>\n",
       "      <td>1.0</td>\n",
       "    </tr>\n",
       "    <tr>\n",
       "      <th>1</th>\n",
       "      <td>0.080804</td>\n",
       "      <td>4.690690</td>\n",
       "      <td>0.0</td>\n",
       "    </tr>\n",
       "    <tr>\n",
       "      <th>2</th>\n",
       "      <td>3.002519</td>\n",
       "      <td>0.742654</td>\n",
       "      <td>1.0</td>\n",
       "    </tr>\n",
       "    <tr>\n",
       "      <th>3</th>\n",
       "      <td>-0.637628</td>\n",
       "      <td>4.091047</td>\n",
       "      <td>0.0</td>\n",
       "    </tr>\n",
       "    <tr>\n",
       "      <th>4</th>\n",
       "      <td>-0.072283</td>\n",
       "      <td>2.883769</td>\n",
       "      <td>0.0</td>\n",
       "    </tr>\n",
       "    <tr>\n",
       "      <th>...</th>\n",
       "      <td>...</td>\n",
       "      <td>...</td>\n",
       "      <td>...</td>\n",
       "    </tr>\n",
       "    <tr>\n",
       "      <th>95</th>\n",
       "      <td>-0.338874</td>\n",
       "      <td>3.234825</td>\n",
       "      <td>2.0</td>\n",
       "    </tr>\n",
       "    <tr>\n",
       "      <th>96</th>\n",
       "      <td>1.289338</td>\n",
       "      <td>3.449692</td>\n",
       "      <td>0.0</td>\n",
       "    </tr>\n",
       "    <tr>\n",
       "      <th>97</th>\n",
       "      <td>1.840706</td>\n",
       "      <td>3.561622</td>\n",
       "      <td>0.0</td>\n",
       "    </tr>\n",
       "    <tr>\n",
       "      <th>98</th>\n",
       "      <td>-0.901673</td>\n",
       "      <td>1.315825</td>\n",
       "      <td>2.0</td>\n",
       "    </tr>\n",
       "    <tr>\n",
       "      <th>99</th>\n",
       "      <td>-2.752340</td>\n",
       "      <td>3.762245</td>\n",
       "      <td>2.0</td>\n",
       "    </tr>\n",
       "  </tbody>\n",
       "</table>\n",
       "<p>100 rows × 3 columns</p>\n",
       "</div>"
      ],
      "text/plain": [
       "    feature1  feature2  cluster_id\n",
       "0   2.631858  0.689365         1.0\n",
       "1   0.080804  4.690690         0.0\n",
       "2   3.002519  0.742654         1.0\n",
       "3  -0.637628  4.091047         0.0\n",
       "4  -0.072283  2.883769         0.0\n",
       "..       ...       ...         ...\n",
       "95 -0.338874  3.234825         2.0\n",
       "96  1.289338  3.449692         0.0\n",
       "97  1.840706  3.561622         0.0\n",
       "98 -0.901673  1.315825         2.0\n",
       "99 -2.752340  3.762245         2.0\n",
       "\n",
       "[100 rows x 3 columns]"
      ]
     },
     "execution_count": 12,
     "metadata": {},
     "output_type": "execute_result"
    }
   ],
   "source": [
    "clu_df"
   ]
  },
  {
   "cell_type": "code",
   "execution_count": 13,
   "id": "742bf8e3-9178-497b-974b-a967dc1d57d6",
   "metadata": {},
   "outputs": [
    {
     "data": {
      "text/plain": [
       "<Axes: xlabel='feature1', ylabel='feature2'>"
      ]
     },
     "execution_count": 13,
     "metadata": {},
     "output_type": "execute_result"
    },
    {
     "data": {
      "image/png": "[encoded data removed]",
      "text/plain": [
       "<Figure size 640x480 with 1 Axes>"
      ]
     },
     "metadata": {},
     "output_type": "display_data"
    }
   ],
   "source": [
    "sns.scatterplot(clu_df, x='feature1',y = 'feature2',hue = 'cluster_id', \n",
    "               )"
   ]
  },
  {
   "cell_type": "code",
   "execution_count": 14,
   "id": "071d1b8c-8f15-4d19-86c5-9d0a6811fae3",
   "metadata": {},
   "outputs": [],
   "source": [
    "import sqlite3"
   ]
  },
  {
   "cell_type": "code",
   "execution_count": 15,
   "id": "0e8b2471-7539-4b99-baa1-5b2ae18e525b",
   "metadata": {},
   "outputs": [],
   "source": [
    "conn = sqlite3.connect('example.db')"
   ]
  },
  {
   "cell_type": "code",
   "execution_count": 16,
   "id": "bfe0ba59-9362-4b59-a6a6-8721803f8cd5",
   "metadata": {},
   "outputs": [],
   "source": [
    "cursor= conn.cursor()"
   ]
  },
  {
   "cell_type": "code",
   "execution_count": 17,
   "id": "8c878043-f061-4232-ac97-7fb23a6142fc",
   "metadata": {},
   "outputs": [
    {
     "ename": "OperationalError",
     "evalue": "table EMPLOYEE already exists",
     "output_type": "error",
     "traceback": [
      "\u001b[1;31m---------------------------------------------------------------------------\u001b[0m",
      "\u001b[1;31mOperationalError\u001b[0m                          Traceback (most recent call last)",
      "Cell \u001b[1;32mIn[17], line 1\u001b[0m\n\u001b[1;32m----> 1\u001b[0m \u001b[43mcursor\u001b[49m\u001b[38;5;241;43m.\u001b[39;49m\u001b[43mexecute\u001b[49m\u001b[43m(\u001b[49m\u001b[38;5;124;43m'''\u001b[39;49m\u001b[38;5;124;43mCREATE TABLE EMPLOYEE(\u001b[39;49m\n\u001b[0;32m      2\u001b[0m \u001b[38;5;124;43m    FIRST_NAME CHAR(20) NOT NULL,\u001b[39;49m\n\u001b[0;32m      3\u001b[0m \u001b[38;5;124;43m    LAST_NAME CHAR(20),\u001b[39;49m\n\u001b[0;32m      4\u001b[0m \u001b[38;5;124;43m    AGE INT NOT NULL,\u001b[39;49m\n\u001b[0;32m      5\u001b[0m \u001b[38;5;124;43m    SEX CHAR(1),\u001b[39;49m\n\u001b[0;32m      6\u001b[0m \u001b[38;5;124;43m    INCOME FLOAT)\u001b[39;49m\u001b[38;5;124;43m'''\u001b[39;49m\u001b[43m)\u001b[49m\n\u001b[0;32m      7\u001b[0m conn\u001b[38;5;241m.\u001b[39mcommit()\n",
      "\u001b[1;31mOperationalError\u001b[0m: table EMPLOYEE already exists"
     ]
    }
   ],
   "source": [
    "cursor.execute('''CREATE TABLE EMPLOYEE(\n",
    "    FIRST_NAME CHAR(20) NOT NULL,\n",
    "    LAST_NAME CHAR(20),\n",
    "    AGE INT NOT NULL,\n",
    "    SEX CHAR(1),\n",
    "    INCOME FLOAT)''')\n",
    "conn.commit()"
   ]
  },
  {
   "cell_type": "code",
   "execution_count": 18,
   "id": "5cce6650-2ac4-4fae-8c41-f23d80a40141",
   "metadata": {},
   "outputs": [
    {
     "data": {
      "text/plain": [
       "<sqlite3.Cursor at 0x2642d4d7c40>"
      ]
     },
     "execution_count": 18,
     "metadata": {},
     "output_type": "execute_result"
    }
   ],
   "source": [
    "cursor.execute('''INSERT INTO EMPLOYEE VALUES\n",
    "                  ('Ram','Shrestha',24,'M',1200),\n",
    "                  ('Sita','Shrestha',24,'F',12300),\n",
    "                  ('Aanal','Patel',34,'M',40000),\n",
    "                  ('Jay','Saravanan',24,'M',12000),\n",
    "                  ('Ernie','Samosa',10,'M',1200)''')\n",
    "                  "
   ]
  },
  {
   "cell_type": "code",
   "execution_count": 19,
   "id": "2ff38f9e-746c-4ddf-a48b-d07f9628b77b",
   "metadata": {},
   "outputs": [],
   "source": [
    "data_db = [('Ram','Shrestha',24,'M',1200),\n",
    "                  ('Sita','Shrestha',24,'F',12300),\n",
    "                  ('Aanal','Patel',34,'M',40000),\n",
    "                  ('Jay','Saravanan',24,'M',12000),\n",
    "                  ('Ernie','Samosa',10,'M',1200)]"
   ]
  },
  {
   "cell_type": "code",
   "execution_count": 25,
   "id": "9b720a20-9a41-437c-86eb-c7a7dbf4c7b2",
   "metadata": {},
   "outputs": [
    {
     "data": {
      "text/plain": [
       "<sqlite3.Cursor at 0x2642d4d7c40>"
      ]
     },
     "execution_count": 25,
     "metadata": {},
     "output_type": "execute_result"
    }
   ],
   "source": [
    "cursor.executemany('''INSERT INTO EMPLOYEE VALUES (?,?,?,?,?)''',data_db)"
   ]
  },
  {
   "cell_type": "code",
   "execution_count": 26,
   "id": "1ab07127-43b9-46c4-9dd7-79ff43e445ff",
   "metadata": {},
   "outputs": [],
   "source": [
    "conn.commit()"
   ]
  },
  {
   "cell_type": "code",
   "execution_count": 27,
   "id": "ba8fc6c8-fbf5-49fa-a336-2836179cab67",
   "metadata": {},
   "outputs": [
    {
     "name": "stdout",
     "output_type": "stream",
     "text": [
      "('Ram', 'Shrestha', 24, 'M', 1200.0)\n"
     ]
    }
   ],
   "source": [
    "cursor.execute('''SELECT * FROM EMPLOYEE''')\n",
    "data_row = cursor.fetchone()\n",
    "print(data_row)\n"
   ]
  },
  {
   "cell_type": "code",
   "execution_count": 28,
   "id": "06daaf40-4dbd-44b3-986a-ed081885ffef",
   "metadata": {},
   "outputs": [
    {
     "name": "stdout",
     "output_type": "stream",
     "text": [
      "('Ram', 'Shrestha', 24, 'M', 1200.0)\n",
      "('Sita', 'Shrestha', 24, 'F', 12300.0)\n",
      "('Aanal', 'Patel', 34, 'M', 40000.0)\n"
     ]
    }
   ],
   "source": [
    "cursor.execute('''SELECT * FROM EMPLOYEE''')\n",
    "row_three = cursor.fetchmany(3)\n",
    "for row in row_three:\n",
    "    print(row)\n"
   ]
  },
  {
   "cell_type": "code",
   "execution_count": 29,
   "id": "274e6b85-5448-4c82-a2c8-9d0bb215f125",
   "metadata": {},
   "outputs": [
    {
     "name": "stdout",
     "output_type": "stream",
     "text": [
      "('Jay', 'Saravanan', 24, 'M', 12000.0)\n",
      "('Ernie', 'Samosa', 10, 'M', 1200.0)\n",
      "('Ram', 'Shrestha', 24, 'M', 1200.0)\n",
      "('Sita', 'Shrestha', 24, 'F', 12300.0)\n",
      "('Aanal', 'Patel', 34, 'M', 40000.0)\n",
      "('Jay', 'Saravanan', 24, 'M', 12000.0)\n",
      "('Ernie', 'Samosa', 10, 'M', 1200.0)\n",
      "('Ram', 'Shrestha', 24, 'M', 1200.0)\n",
      "('Sita', 'Shrestha', 24, 'F', 12300.0)\n",
      "('Aanal', 'Patel', 34, 'M', 40000.0)\n",
      "('Jay', 'Saravanan', 24, 'M', 12000.0)\n",
      "('Ernie', 'Samosa', 10, 'M', 1200.0)\n",
      "('Ram', 'Shrestha', 24, 'M', 1200.0)\n",
      "('Sita', 'Shrestha', 24, 'F', 12300.0)\n",
      "('Aanal', 'Patel', 34, 'M', 40000.0)\n",
      "('Jay', 'Saravanan', 24, 'M', 12000.0)\n",
      "('Ernie', 'Samosa', 10, 'M', 1200.0)\n",
      "('Ram', 'Shrestha', 24, 'M', 1200.0)\n",
      "('Sita', 'Shrestha', 24, 'F', 12300.0)\n",
      "('Aanal', 'Patel', 34, 'M', 40000.0)\n",
      "('Jay', 'Saravanan', 24, 'M', 12000.0)\n",
      "('Ernie', 'Samosa', 10, 'M', 1200.0)\n"
     ]
    }
   ],
   "source": [
    "data_table = cursor.fetchall() #this resets the cursor\n",
    "for row in data_table:\n",
    "    print(row)"
   ]
  },
  {
   "cell_type": "code",
   "execution_count": 32,
   "id": "4e7d098a-09a7-4140-825a-991de3e52b4b",
   "metadata": {},
   "outputs": [],
   "source": [
    "cursor.execute('''UPDATE EMPLOYEE SET AGE = AGE+1 WHERE SEX = \"M\"''')\n",
    "conn.commit()"
   ]
  },
  {
   "cell_type": "code",
   "execution_count": 33,
   "id": "f055c6f4-fa74-43df-adea-56f38d749fd8",
   "metadata": {},
   "outputs": [
    {
     "name": "stdout",
     "output_type": "stream",
     "text": [
      "('Ram', 'Shrestha', 25, 'M', 1200.0)\n",
      "('Sita', 'Shrestha', 24, 'F', 12300.0)\n",
      "('Aanal', 'Patel', 35, 'M', 40000.0)\n",
      "('Jay', 'Saravanan', 25, 'M', 12000.0)\n",
      "('Ernie', 'Samosa', 11, 'M', 1200.0)\n",
      "('Ram', 'Shrestha', 25, 'M', 1200.0)\n",
      "('Sita', 'Shrestha', 24, 'F', 12300.0)\n",
      "('Aanal', 'Patel', 35, 'M', 40000.0)\n",
      "('Jay', 'Saravanan', 25, 'M', 12000.0)\n",
      "('Ernie', 'Samosa', 11, 'M', 1200.0)\n",
      "('Ram', 'Shrestha', 25, 'M', 1200.0)\n",
      "('Sita', 'Shrestha', 24, 'F', 12300.0)\n",
      "('Aanal', 'Patel', 35, 'M', 40000.0)\n",
      "('Jay', 'Saravanan', 25, 'M', 12000.0)\n",
      "('Ernie', 'Samosa', 11, 'M', 1200.0)\n",
      "('Ram', 'Shrestha', 25, 'M', 1200.0)\n",
      "('Sita', 'Shrestha', 24, 'F', 12300.0)\n",
      "('Aanal', 'Patel', 35, 'M', 40000.0)\n",
      "('Jay', 'Saravanan', 25, 'M', 12000.0)\n",
      "('Ernie', 'Samosa', 11, 'M', 1200.0)\n"
     ]
    }
   ],
   "source": [
    "cursor.execute('''SELECT * FROM EMPLOYEE''')\n",
    "row_three = cursor.fetchmany(20)\n",
    "for row in row_three:\n",
    "    print(row)"
   ]
  },
  {
   "cell_type": "code",
   "execution_count": 36,
   "id": "9c608cbb-9b7d-4bf5-be38-13171091014d",
   "metadata": {},
   "outputs": [],
   "source": [
    "cursor.execute('''UPDATE EMPLOYEE SET SEX = \"F\" WHERE FIRST_NAME = \"Aanal\"''')\n",
    "conn.commit()"
   ]
  },
  {
   "cell_type": "code",
   "execution_count": 37,
   "id": "0fe9aef5-d8d8-41b3-8ab6-94f3f1c6f739",
   "metadata": {},
   "outputs": [
    {
     "name": "stdout",
     "output_type": "stream",
     "text": [
      "('Ram', 'Shrestha', 25, 'M', 1200.0)\n",
      "('Sita', 'Shrestha', 24, 'F', 12300.0)\n",
      "('Aanal', 'Patel', 35, 'F', 40000.0)\n",
      "('Jay', 'Saravanan', 25, 'M', 12000.0)\n",
      "('Ernie', 'Samosa', 11, 'M', 1200.0)\n",
      "('Ram', 'Shrestha', 25, 'M', 1200.0)\n",
      "('Sita', 'Shrestha', 24, 'F', 12300.0)\n",
      "('Aanal', 'Patel', 35, 'F', 40000.0)\n",
      "('Jay', 'Saravanan', 25, 'M', 12000.0)\n",
      "('Ernie', 'Samosa', 11, 'M', 1200.0)\n",
      "('Ram', 'Shrestha', 25, 'M', 1200.0)\n",
      "('Sita', 'Shrestha', 24, 'F', 12300.0)\n",
      "('Aanal', 'Patel', 35, 'F', 40000.0)\n",
      "('Jay', 'Saravanan', 25, 'M', 12000.0)\n",
      "('Ernie', 'Samosa', 11, 'M', 1200.0)\n",
      "('Ram', 'Shrestha', 25, 'M', 1200.0)\n",
      "('Sita', 'Shrestha', 24, 'F', 12300.0)\n",
      "('Aanal', 'Patel', 35, 'F', 40000.0)\n",
      "('Jay', 'Saravanan', 25, 'M', 12000.0)\n",
      "('Ernie', 'Samosa', 11, 'M', 1200.0)\n",
      "('Ram', 'Shrestha', 25, 'M', 1200.0)\n",
      "('Sita', 'Shrestha', 24, 'F', 12300.0)\n",
      "('Aanal', 'Patel', 35, 'F', 40000.0)\n",
      "('Jay', 'Saravanan', 25, 'M', 12000.0)\n",
      "('Ernie', 'Samosa', 11, 'M', 1200.0)\n"
     ]
    }
   ],
   "source": [
    "cursor.execute('''SELECT * FROM EMPLOYEE''')\n",
    "rows = cursor.fetchall()\n",
    "for row in rows:\n",
    "    print(row)"
   ]
  },
  {
   "cell_type": "code",
   "execution_count": 39,
   "id": "6e54d51d-48f3-48ba-936b-e8f16e17ff79",
   "metadata": {},
   "outputs": [],
   "source": [
    "cursor.execute('''ALTER TABLE EMPLOYEE RENAME COLUMN SEX TO GENDER''')\n",
    "conn.commit()"
   ]
  },
  {
   "cell_type": "code",
   "execution_count": 42,
   "id": "01f7c210-12e1-4371-bf0e-5e084f9ddcb0",
   "metadata": {},
   "outputs": [],
   "source": [
    "cursor.execute('''DELETE  FROM EMPLOYEE WHERE AGE >24''')\n",
    "conn.commit()"
   ]
  },
  {
   "cell_type": "code",
   "execution_count": 43,
   "id": "f1ebbb68-784d-4e01-bf47-1189d190bfbd",
   "metadata": {},
   "outputs": [
    {
     "name": "stdout",
     "output_type": "stream",
     "text": [
      "('Sita', 'Shrestha', 24, 'F', 12300.0)\n",
      "('Ernie', 'Samosa', 11, 'M', 1200.0)\n",
      "('Sita', 'Shrestha', 24, 'F', 12300.0)\n",
      "('Ernie', 'Samosa', 11, 'M', 1200.0)\n",
      "('Sita', 'Shrestha', 24, 'F', 12300.0)\n",
      "('Ernie', 'Samosa', 11, 'M', 1200.0)\n",
      "('Sita', 'Shrestha', 24, 'F', 12300.0)\n",
      "('Ernie', 'Samosa', 11, 'M', 1200.0)\n",
      "('Sita', 'Shrestha', 24, 'F', 12300.0)\n",
      "('Ernie', 'Samosa', 11, 'M', 1200.0)\n"
     ]
    }
   ],
   "source": [
    "cursor.execute('''SELECT * FROM EMPLOYEE''')\n",
    "rows = cursor.fetchall()\n",
    "for row in rows:\n",
    "    print(row)"
   ]
  },
  {
   "cell_type": "code",
   "execution_count": 44,
   "id": "0a25e10b-41d3-4db6-9f32-14315829be85",
   "metadata": {},
   "outputs": [],
   "source": [
    "cursor.execute('''ALTER TABLE EMPLOYEE DROP GENDER''')\n",
    "conn.commit()"
   ]
  },
  {
   "cell_type": "code",
   "execution_count": 45,
   "id": "5b6da119-719f-4ea1-af83-bc653222384b",
   "metadata": {},
   "outputs": [
    {
     "name": "stdout",
     "output_type": "stream",
     "text": [
      "('Sita', 'Shrestha', 24, 12300.0)\n",
      "('Ernie', 'Samosa', 11, 1200.0)\n",
      "('Sita', 'Shrestha', 24, 12300.0)\n",
      "('Ernie', 'Samosa', 11, 1200.0)\n",
      "('Sita', 'Shrestha', 24, 12300.0)\n",
      "('Ernie', 'Samosa', 11, 1200.0)\n",
      "('Sita', 'Shrestha', 24, 12300.0)\n",
      "('Ernie', 'Samosa', 11, 1200.0)\n",
      "('Sita', 'Shrestha', 24, 12300.0)\n",
      "('Ernie', 'Samosa', 11, 1200.0)\n"
     ]
    }
   ],
   "source": [
    "cursor.execute('''SELECT * FROM EMPLOYEE''')\n",
    "rows = cursor.fetchall()\n",
    "for row in rows:\n",
    "    print(row)"
   ]
  },
  {
   "cell_type": "code",
   "execution_count": 47,
   "id": "e601fe46-f0ba-47f7-af1f-9091aeaa86a4",
   "metadata": {},
   "outputs": [],
   "source": [
    "df = pd.read_sql('''SELECT * FROM EMPLOYEE''',conn)"
   ]
  },
  {
   "cell_type": "code",
   "execution_count": 48,
   "id": "af773291-c57b-4c07-b7aa-34d08708ce5c",
   "metadata": {},
   "outputs": [
    {
     "data": {
      "text/html": [
       "<div>\n",
       "<style scoped>\n",
       "    .dataframe tbody tr th:only-of-type {\n",
       "        vertical-align: middle;\n",
       "    }\n",
       "\n",
       "    .dataframe tbody tr th {\n",
       "        vertical-align: top;\n",
       "    }\n",
       "\n",
       "    .dataframe thead th {\n",
       "        text-align: right;\n",
       "    }\n",
       "</style>\n",
       "<table border=\"1\" class=\"dataframe\">\n",
       "  <thead>\n",
       "    <tr style=\"text-align: right;\">\n",
       "      <th></th>\n",
       "      <th>FIRST_NAME</th>\n",
       "      <th>LAST_NAME</th>\n",
       "      <th>AGE</th>\n",
       "      <th>INCOME</th>\n",
       "    </tr>\n",
       "  </thead>\n",
       "  <tbody>\n",
       "    <tr>\n",
       "      <th>0</th>\n",
       "      <td>Sita</td>\n",
       "      <td>Shrestha</td>\n",
       "      <td>24</td>\n",
       "      <td>12300.0</td>\n",
       "    </tr>\n",
       "    <tr>\n",
       "      <th>1</th>\n",
       "      <td>Ernie</td>\n",
       "      <td>Samosa</td>\n",
       "      <td>11</td>\n",
       "      <td>1200.0</td>\n",
       "    </tr>\n",
       "    <tr>\n",
       "      <th>2</th>\n",
       "      <td>Sita</td>\n",
       "      <td>Shrestha</td>\n",
       "      <td>24</td>\n",
       "      <td>12300.0</td>\n",
       "    </tr>\n",
       "    <tr>\n",
       "      <th>3</th>\n",
       "      <td>Ernie</td>\n",
       "      <td>Samosa</td>\n",
       "      <td>11</td>\n",
       "      <td>1200.0</td>\n",
       "    </tr>\n",
       "    <tr>\n",
       "      <th>4</th>\n",
       "      <td>Sita</td>\n",
       "      <td>Shrestha</td>\n",
       "      <td>24</td>\n",
       "      <td>12300.0</td>\n",
       "    </tr>\n",
       "    <tr>\n",
       "      <th>5</th>\n",
       "      <td>Ernie</td>\n",
       "      <td>Samosa</td>\n",
       "      <td>11</td>\n",
       "      <td>1200.0</td>\n",
       "    </tr>\n",
       "    <tr>\n",
       "      <th>6</th>\n",
       "      <td>Sita</td>\n",
       "      <td>Shrestha</td>\n",
       "      <td>24</td>\n",
       "      <td>12300.0</td>\n",
       "    </tr>\n",
       "    <tr>\n",
       "      <th>7</th>\n",
       "      <td>Ernie</td>\n",
       "      <td>Samosa</td>\n",
       "      <td>11</td>\n",
       "      <td>1200.0</td>\n",
       "    </tr>\n",
       "    <tr>\n",
       "      <th>8</th>\n",
       "      <td>Sita</td>\n",
       "      <td>Shrestha</td>\n",
       "      <td>24</td>\n",
       "      <td>12300.0</td>\n",
       "    </tr>\n",
       "    <tr>\n",
       "      <th>9</th>\n",
       "      <td>Ernie</td>\n",
       "      <td>Samosa</td>\n",
       "      <td>11</td>\n",
       "      <td>1200.0</td>\n",
       "    </tr>\n",
       "  </tbody>\n",
       "</table>\n",
       "</div>"
      ],
      "text/plain": [
       "  FIRST_NAME LAST_NAME  AGE   INCOME\n",
       "0       Sita  Shrestha   24  12300.0\n",
       "1      Ernie    Samosa   11   1200.0\n",
       "2       Sita  Shrestha   24  12300.0\n",
       "3      Ernie    Samosa   11   1200.0\n",
       "4       Sita  Shrestha   24  12300.0\n",
       "5      Ernie    Samosa   11   1200.0\n",
       "6       Sita  Shrestha   24  12300.0\n",
       "7      Ernie    Samosa   11   1200.0\n",
       "8       Sita  Shrestha   24  12300.0\n",
       "9      Ernie    Samosa   11   1200.0"
      ]
     },
     "execution_count": 48,
     "metadata": {},
     "output_type": "execute_result"
    }
   ],
   "source": [
    "df"
   ]
  },
  {
   "cell_type": "code",
   "execution_count": null,
   "id": "995e912c-430c-4c04-9419-b12d9db36d74",
   "metadata": {},
   "outputs": [],
   "source": []
  }
 ],
 "metadata": {
  "kernelspec": {
   "display_name": "Python 3 (ipykernel)",
   "language": "python",
   "name": "python3"
  },
  "language_info": {
   "codemirror_mode": {
    "name": "ipython",
    "version": 3
   },
   "file_extension": ".py",
   "mimetype": "text/x-python",
   "name": "python",
   "nbconvert_exporter": "python",
   "pygments_lexer": "ipython3",
   "version": "3.11.5"
  }
 },
 "nbformat": 4,
 "nbformat_minor": 5
}
